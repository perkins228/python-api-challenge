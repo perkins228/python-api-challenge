{
 "cells": [
  {
   "cell_type": "markdown",
   "metadata": {},
   "source": [
    "# WeatherPy\n",
    "----\n",
    "\n",
    "#### Note\n",
    "* Instructions have been included for each segment. You do not have to follow them exactly, but they are included to help you think through the steps."
   ]
  },
  {
   "cell_type": "code",
   "execution_count": 532,
   "metadata": {
    "scrolled": true
   },
   "outputs": [],
   "source": [
    "# Dependencies and Setup\n",
    "import matplotlib.pyplot as plt\n",
    "import pandas as pd\n",
    "import numpy as np\n",
    "import requests\n",
    "import csv\n",
    "import time\n",
    "from scipy.stats import linregress\n",
    "\n",
    "# Import API key\n",
    "from api_keys import weather_api_key\n",
    "\n",
    "# Incorporated citipy to determine city based on latitude and longitude\n",
    "from citipy import citipy\n",
    "\n",
    "# Output File (CSV)\n",
    "output_data_file = \"../output_data/cities.csv\"\n",
    "\n",
    "# Range of latitudes and longitudes\n",
    "lat_range = (-90, 90)\n",
    "lng_range = (-180, 180)"
   ]
  },
  {
   "cell_type": "markdown",
   "metadata": {},
   "source": [
    "## Generate Cities List"
   ]
  },
  {
   "cell_type": "code",
   "execution_count": 526,
   "metadata": {},
   "outputs": [
    {
     "data": {
      "text/plain": [
       "602"
      ]
     },
     "execution_count": 526,
     "metadata": {},
     "output_type": "execute_result"
    }
   ],
   "source": [
    "# List for holding lat_lngs and cities\n",
    "lat_lngs = []\n",
    "cities = []\n",
    "\n",
    "# Create a set of random lat and lng combinations\n",
    "lats = np.random.uniform(lat_range[0], lat_range[1], size=500)\n",
    "lngs = np.random.uniform(lng_range[0], lng_range[1], size=500)\n",
    "lat_lngs = zip(lats, lngs)\n",
    "\n",
    "# Identify nearest city for each lat, lng combination\n",
    "for lat_lng in lat_lngs:\n",
    "    city = citipy.nearest_city(lat_lng[0], lat_lng[1]).city_name\n",
    "    \n",
    "    # If the city is unique, then add it to a our cities list\n",
    "    if city not in cities:\n",
    "        cities.append(city)\n",
    "\n",
    "# Print the city count to confirm sufficient count\n",
    "len(cities)\n"
   ]
  },
  {
   "cell_type": "markdown",
   "metadata": {},
   "source": [
    "### Perform API Calls\n",
    "* Perform a weather check on each city using a series of successive API calls.\n",
    "* Include a print log of each city as it'sbeing processed (with the city number and city name).\n"
   ]
  },
  {
   "cell_type": "code",
   "execution_count": 572,
   "metadata": {},
   "outputs": [
    {
     "name": "stdout",
     "output_type": "stream",
     "text": [
      "632542 Vammala\n",
      "4030556 Rikitea\n",
      "108410 Riyadh\n",
      "3369157 Cape Town\n",
      "No id Available\n",
      "3664659 Carauari\n",
      "3985710 Cabo San Lucas\n",
      "3833367 Ushuaia\n",
      "3380290 Sinnamary\n",
      "2017155 Saskylakh\n",
      "3874787 Punta Arenas\n",
      "3065759 Slušovice\n",
      "4035715 Avarua\n",
      "2155415 New Norfolk\n",
      "2126123 Chokurdakh\n",
      "964432 Port Alfred\n",
      "No id Available\n",
      "3372707 Ribeira Grande\n",
      "No id Available\n",
      "1282256 Hithadhoo\n",
      "3893726 Constitución\n",
      "No id Available\n",
      "2966356 Bantry\n",
      "2075265 Busselton\n",
      "3471451 Arraial do Cabo\n",
      "3831208 Qaanaaq\n",
      "3899539 Antofagasta\n",
      "3382160 Cayenne\n",
      "6165406 Thompson\n",
      "6201424 Mataura\n",
      "2121385 Severo-Kuril'sk\n",
      "6180550 Whitehorse\n",
      "6089245 Norman Wells\n",
      "1819729 Hong Kong\n",
      "5848280 Kapaa\n",
      "4032243 Vaini\n",
      "3421765 Nanortalik\n",
      "3418910 Upernavik\n",
      "1801669 Luyang\n",
      "3172394 Naples\n",
      "4036284 Alofi\n",
      "2123814 Leningradskiy\n",
      "No id Available\n",
      "2015306 Tiksi\n",
      "5855927 Hilo\n",
      "1640972 Katobu\n",
      "2189343 Kaeo\n",
      "778362 Øksfjord\n",
      "2447416 Ayorou\n",
      "No id Available\n",
      "3466704 Castro\n",
      "2208248 Kaitangata\n",
      "2093967 Kimbe\n",
      "2027042 Batagay-Alyta\n",
      "3522880 Mundo Nuevo (Ojo de Agua)\n",
      "1015776 Bredasdorp\n",
      "2729907 Longyearbyen\n",
      "3671437 Caucayá\n",
      "2163355 Hobart\n",
      "1633419 Padang\n",
      "No id Available\n",
      "1071296 Antalaha\n",
      "5520552 Dumas\n",
      "1180729 Dalbandin\n",
      "No id Available\n",
      "3460344 Jacobina\n",
      "No id Available\n",
      "1732945 Cukai\n",
      "1637001 Biak\n",
      "3690316 Aguazul\n",
      "1861280 Itoman\n",
      "No id Available\n",
      "964420 Port Elizabeth\n",
      "3115824 Muros\n",
      "5546220 Saint George\n",
      "5527953 Pampa\n",
      "2112444 Kamaishi\n",
      "1045114 Inhambane\n",
      "3466165 Cidreira\n",
      "3430863 Mar del Plata\n",
      "No id Available\n",
      "893485 Chiredzi\n",
      "3416888 Grindavik\n",
      "3389822 Salinópolis\n",
      "6185377 Yellowknife\n",
      "1255024 Tāndā\n",
      "1626932 Singaraja\n",
      "2618795 Klaksvík\n",
      "3424607 Tasiilaq\n",
      "3466980 Caravelas\n",
      "1640902 Kawalu\n",
      "No id Available\n",
      "3141548 Rognan\n",
      "2396518 Port-Gentil\n",
      "3414079 Olafsvik\n",
      "6255012 Flinders\n",
      "No id Available\n",
      "5106841 Albany\n",
      "6170031 Tuktoyaktuk\n",
      "1507390 Dikson\n",
      "1649150 Bengkulu\n",
      "3652764 Puerto Ayora\n",
      "3899695 Ancud\n",
      "546105 Nikolskoye\n",
      "5122534 Jamestown\n",
      "No id Available\n",
      "2082539 Merauke\n",
      "2094144 Kerema\n",
      "1106677 Bambous Virieux\n",
      "2270385 Camacha\n",
      "1714733 Dingle\n",
      "2176639 Batemans Bay\n",
      "No id Available\n",
      "3516685 Seybaplaya\n",
      "3397851 Itupiranga\n",
      "3393692 Itarema\n",
      "4020109 Atuona\n",
      "1254046 Tura\n",
      "3137469 Sørland\n",
      "102527 Sakakah\n",
      "3060950 Brezno\n",
      "5847411 Kahului\n",
      "4673482 Benbrook\n",
      "No id Available\n",
      "No id Available\n",
      "3404558 Cabedelo\n",
      "1244926 Hambantota\n",
      "3336897 La Rioja\n",
      "532664 Lysyye Gory\n",
      "2206939 Bluff\n",
      "3440777 Rocha\n",
      "3356832 Henties Bay\n",
      "4946620 Palmer\n",
      "2263905 Ribeira Brava\n",
      "2633274 Akureyri\n",
      "1786676 Yima\n",
      "1857594 Masuda\n",
      "2112802 Hasaki\n",
      "2074865 Carnarvon\n",
      "3870243 Taltal\n",
      "2122090 Pevek\n",
      "No id Available\n",
      "1651810 Airai\n",
      "No id Available\n",
      "3443061 Chui\n",
      "2190299 Hanmer Springs\n",
      "2181625 Te Anau\n",
      "2038067 Chifeng\n",
      "3081752 Władysławowo\n",
      "3381041 Mana\n",
      "2264923 Peniche\n",
      "553169 Kandry\n",
      "2027044 Batagay\n",
      "4031574 Provideniya\n",
      "2035836 Manzhouli\n",
      "2128975 Nemuro\n",
      "2037078 Hailar\n",
      "2110227 Butaritari\n",
      "935215 Saint-Philippe\n",
      "1814093 Dali\n",
      "779683 Hammerfest\n",
      "5880054 Barrow\n",
      "3366880 Hermanus\n",
      "1214488 Meulaboh\n",
      "5746545 Portland\n",
      "3694112 Paita\n",
      "2022572 Khatanga\n",
      "1178338 Gilgit\n",
      "5563839 Fortuna\n",
      "1805680 Jingdezhen\n",
      "4726521 San Patricio\n",
      "2134814 Sola\n",
      "4033375 Tevaitoa\n",
      "No id Available\n",
      "3864331 Bell Ville\n",
      "734133 Stratoni\n",
      "58933 Garoowe\n",
      "158024 Kibakwe\n",
      "553766 Kamenka\n",
      "4738723 Uvalde\n",
      "2643044 Margate\n",
      "3188763 Trogir\n",
      "3128436 Beasain\n",
      "3580733 Bodden Town\n",
      "543508 Kovdor\n",
      "6355222 Yulara\n",
      "No id Available\n",
      "986717 Kruisfontein\n",
      "3905792 San Borja\n",
      "3663517 Manaus\n",
      "1006984 East London\n",
      "4034551 Faanui\n",
      "6167817 Torbay\n",
      "3448903 São João da Barra\n",
      "3420768 Qasigiannguit\n",
      "No id Available\n",
      "352733 Marsá Maţrūḩ\n",
      "1510377 Belyy Yar\n",
      "3936456 Lima\n",
      "No id Available\n",
      "2374583 Bubaque\n",
      "935214 Saint-Pierre\n",
      "5742974 North Bend\n",
      "4513583 Hamilton\n",
      "2122104 Petropavlovsk-Kamchatskiy\n",
      "2171099 Codrington\n",
      "86049 Jalu\n",
      "2179103 Whitianga\n",
      "6144312 Sept-Îles\n",
      "5969025 Haines Junction\n",
      "686090 Asău\n",
      "359792 Aswān\n",
      "3464008 Esmeraldas\n",
      "5866583 Saint Paul Harbor\n",
      "2656258 Barrhead\n",
      "No id Available\n",
      "6145425 Shaunavon\n",
      "3577430 Road Town\n",
      "2132606 Samarai\n",
      "8079926 Labuhan\n",
      "1486321 Yar-Sale\n",
      "5397664 South Lake Tahoe\n",
      "5364271 Laguna\n",
      "4944903 Nantucket\n",
      "2167426 Emerald\n",
      "6111867 Port Hawkesbury\n",
      "2138555 Poum\n",
      "3489440 Morant Bay\n",
      "2410312 Barma\n",
      "3372964 Lagoa\n",
      "5983720 Iqaluit\n",
      "5059430 Grand Forks\n",
      "1521762 Kurchum\n",
      "4676798 Brownwood\n",
      "3145614 Storforshei\n",
      "4031637 Lavrentiya\n",
      "1812256 Dongsheng\n",
      "1735106 George Town\n",
      "3932145 Pisco\n",
      "5882953 Aklavik\n",
      "934479 Grand Gaube\n",
      "No id Available\n",
      "2034615 Tahe\n",
      "1268814 Joshīmath\n",
      "3391889 Pitimbu\n",
      "2013639 Verkhnevilyuysk\n",
      "5905393 Bonavista\n",
      "5367788 Lompoc\n",
      "527321 Mezen'\n",
      "No id Available\n",
      "2121373 Seymchan\n",
      "2035707 Mujiayingzi\n",
      "3984997 San Quintín\n",
      "5826027 Gillette\n",
      "2065594 Mount Isa\n",
      "286621 Salalah\n",
      "1495626 Pangody\n",
      "6050066 La Ronge\n",
      "3141310 Rørvik\n",
      "3382226 Camopi\n",
      "1738050 Marabu\n",
      "2434985 Bokoro\n",
      "2178753 Kirakira\n",
      "5924351 Clyde River\n",
      "2077895 Alice Springs\n",
      "3837213 San Juan\n",
      "53654 Mogadishu\n",
      "6153766 Spirit River\n",
      "No id Available\n",
      "2036959 Heishan\n",
      "2026126 Borzya\n",
      "1634614 Nabire\n",
      "541647 Krasnyy Kut\n",
      "2126199 Cherskiy\n",
      "No id Available\n",
      "3628423 San Felipe\n",
      "2121025 Srednekolymsk\n",
      "No id Available\n",
      "153176 Mpanda\n",
      "2399959 Koulamoutou\n",
      "3527113 Hidalgotitlán\n",
      "2414659 Tokonou\n",
      "2137773 Vao\n",
      "3355672 Lüderitz\n",
      "3833062 Venado Tuerto\n",
      "523206 Naurskaya\n",
      "3948613 Acarí\n",
      "3374210 São Filipe\n",
      "2630299 Hofn\n",
      "556268 Ostrovnoy\n",
      "1337605 Mahibadhoo\n",
      "1067565 Beloha\n",
      "1489853 Tazovsky\n",
      "3420846 Qaqortoq\n",
      "2094342 Kavieng\n",
      "934322 Mahébourg\n",
      "4172445 Seminole\n",
      "921906 Domoni\n",
      "1488903 Turukhansk\n",
      "3512067 Baní\n",
      "4959551 Bucksport\n",
      "No id Available\n",
      "2525478 Cabras\n",
      "2253354 Dakar\n",
      "157198 Kiomboi\n",
      "6113365 Prince George\n",
      "2090021 Namatanai\n",
      "2177069 Ballina\n",
      "1622318 Waingapu\n",
      "No id Available\n",
      "3672077 Planadas\n",
      "3391287 Prainha\n",
      "2455517 Kayes\n",
      "1504081 Kaz\n",
      "5392900 Santa Ana\n",
      "2399001 Mayumba\n",
      "777682 Skjervøy\n",
      "921786 Mitsamiouli\n",
      "5557293 Sitka\n",
      "1711593 Hinundayan\n",
      "2294915 Takoradze\n",
      "3520994 Puerto Escondido\n",
      "1505529 Irbeyskoye\n",
      "3393536 Olinda\n",
      "4165995 Niceville\n",
      "779261 Kjøllefjord\n",
      "779622 Havøysund\n",
      "6137462 Saint-Augustin\n",
      "No id Available\n",
      "3395458 Maragogi\n",
      "1520327 Osakarovka\n",
      "6322204 Cotia\n",
      "691469 Tokmak\n",
      "3522865 Nacajuca\n",
      "565407 Dombarovskiy\n",
      "286245 Sur\n",
      "1855540 Naze\n",
      "2264557 Ponta do Sol\n",
      "1529102 Ürümqi\n",
      "2144528 Warrnambool\n",
      "3579925 St. George's\n",
      "1650434 Bambanglipuro\n",
      "1817240 Baiyin\n",
      "1235846 Matara\n",
      "2397978 Mounana\n",
      "1280957 Jiayuguan City\n",
      "3458121 Malacacheta\n",
      "No id Available\n",
      "2109701 Auki\n",
      "2027316 Ayan\n",
      "1252810 Yairipok\n",
      "2136825 Isangel\n",
      "3533462 Acapulco de Juárez\n",
      "2331005 Malumfashi\n",
      "257122 Methóni\n",
      "1529376 Korla\n",
      "3873145 Río Bueno\n",
      "789996 Istok\n",
      "1529660 Aksu\n",
      "2013216 Vysokogornyy\n",
      "1504382 Kargasok\n",
      "1317402 Kyaikkami\n",
      "3836277 Santa Fe\n",
      "No id Available\n",
      "5850554 Makakilo City\n",
      "2015701 Taksimo\n",
      "3346821 Ondjiva\n",
      "5282297 Bethel\n",
      "610864 Khani\n",
      "2311968 Nioki\n",
      "1509844 Boguchany\n",
      "3372745 Rabo de Peixe\n",
      "6179652 Weyburn\n",
      "1808879 Hanting\n",
      "3883457 Lebu\n",
      "2274895 Monrovia\n",
      "1626936 Singaparna\n",
      "3347019 Mossamedes\n",
      "5554428 Ketchikan\n",
      "2400547 Gamba\n",
      "2180815 Tuatapere\n",
      "4033557 Tautira\n",
      "2654970 Brae\n",
      "2304548 Anloga\n",
      "923058 Kambove\n",
      "3347353 Menongue\n",
      "No id Available\n",
      "3421719 Narsaq\n",
      "3674676 Mitú\n",
      "2012938 Yerofey Pavlovich\n",
      "5380437 Pacific Grove\n",
      "3403687 Camocim\n",
      "1314759 Lashio\n",
      "1626542 Sorong\n",
      "2738381 Lata\n",
      "2032614 Baruun-Urt\n",
      "No id Available\n",
      "1260206 Pāsighāt\n",
      "3141332 Røros\n",
      "3451138 Rio Grande\n",
      "2027296 Aykhal\n",
      "3430443 Necochea\n",
      "5955902 Fort Nelson\n",
      "2629833 Husavik\n",
      "2414055 Youkounkoun\n",
      "877631 Namikupa\n",
      "No id Available\n",
      "2156643 Mount Gambier\n",
      "1263257 Māyakonda\n",
      "485313 Syas'stroy\n",
      "2242001 Caxito\n",
      "2036671 Hulan\n",
      "2122262 Palana\n",
      "4791259 Virginia Beach\n",
      "6067472 Marystown\n",
      "3521972 Panabá\n",
      "2757345 Delft\n",
      "1852357 Shimoda\n",
      "3354071 Oranjemund\n",
      "3663684 Lábrea\n",
      "1817993 Anking\n",
      "2125906 Dukat\n",
      "2036933 Helong\n",
      "2963155 Kinsale\n",
      "5354943 Half Moon Bay\n",
      "1623197 Tual\n",
      "3992908 Pericos\n",
      "218680 Boende\n",
      "1529484 Kumul\n",
      "5921060 Chestermere\n",
      "3471872 Aracaju\n",
      "2014718 Tynda\n",
      "3407762 Amapá\n",
      "751335 Bafra\n",
      "2541479 Nador\n",
      "No id Available\n",
      "2798280 Floreffe\n",
      "6050194 La Sarre\n",
      "No id Available\n",
      "235826 Zemio\n",
      "2514651 Los Llanos de Aridane\n",
      "No id Available\n",
      "1185098 Tongi\n",
      "3495137 Pedernales\n",
      "5937073 Deep River\n",
      "4034188 Moerai\n",
      "525426 Sobolevo\n",
      "3465769 Conceição da Barra\n",
      "780687 Berlevåg\n",
      "1489656 Teya\n",
      "3893629 Coquimbo\n",
      "515246 Onega\n",
      "3571913 Marsh Harbour\n",
      "3836620 Orán\n",
      "2173125 Burnie\n",
      "2998262 Arrondissement de Limoux\n",
      "2016680 Shirokiy\n",
      "2278158 Buchanan\n",
      "5924618 Cochrane\n",
      "293842 Kiryat Gat\n",
      "3460629 Itaqui\n",
      "2120591 Tilichiki\n",
      "2013392 Vilyuysk\n",
      "3408073 Alcântara\n",
      "2112309 Katsuura\n",
      "2276492 Harper\n",
      "3424941 Miquelon\n",
      "3395981 Maceió\n",
      "No id Available\n",
      "712559 Bilopillya\n",
      "2426370 Umm Hājar\n",
      "2012530 Zhigansk\n",
      "3576994 Cockburn Town\n",
      "3115739 Narón\n",
      "1731298 Aloleng\n",
      "107304 Buraidah\n",
      "546282 Kologriv\n",
      "1295765 Sittwe\n",
      "2206874 Waipawa\n",
      "3839307 Rawson\n",
      "1737185 Kapit\n",
      "4021858 Guerrero Negro\n"
     ]
    },
    {
     "name": "stdout",
     "output_type": "stream",
     "text": [
      "1283217 Khanbari\n",
      "1651531 Ambon City\n",
      "2949423 Biberach an der Riss\n",
      "3655446 Jipijapa\n",
      "6148373 Sioux Lookout\n",
      "4260977 Marion\n",
      "1185239 Mathbaria\n",
      "No id Available\n",
      "2145554 Ulladulla\n",
      "3397763 Jacareacanga\n",
      "5973108 Hearst\n",
      "1726449 Basco\n",
      "3939761 Hualmay\n",
      "4954611 Watertown\n",
      "211647 Lodja\n",
      "1079048 Ambovombe\n",
      "2449893 Tessalit\n",
      "1797117 Rongcheng\n",
      "2384377 Mongoumba\n",
      "2447513 Arlit\n",
      "3421319 Nuuk\n",
      "3647444 Calabozo\n",
      "347634 Ţahţā\n",
      "2126710 Beringovskiy\n",
      "6096551 Pangnirtung\n",
      "2021017 Kysyl-Syr\n",
      "3939168 Huarmey\n",
      "5044290 Saint Anthony\n",
      "No id Available\n",
      "149812 Sokoni\n",
      "2377450 Nouakchott\n",
      "5563397 Eureka\n",
      "1726156 Bato\n",
      "2108857 Gizo Government Station\n",
      "4017987 Atoyac\n",
      "2236967 Soyo\n",
      "3452711 Porto Nacional\n",
      "4000490 La Reforma\n",
      "No id Available\n",
      "2111495 Ōhara\n",
      "1624041 Ternate\n",
      "3421982 Maniitsoq\n",
      "2022083 Kirensk\n",
      "2507480 Algiers\n",
      "3119841 A Coruña\n",
      "5795906 Graham\n",
      "No id Available\n",
      "2033675 Xinmin\n",
      "2093846 Kiunga\n",
      "2092164 Lorengau\n",
      "468671 Yasnogorsk\n",
      "2338660 Yaan\n",
      "2347758 Bara\n",
      "300371 Soma\n",
      "2989755 Octeville\n",
      "3445026 Vila Velha\n",
      "2071860 Esperance\n",
      "4004293 Ixtapa\n",
      "696478 Poroshkovo\n",
      "No id Available\n",
      "2598243 Soubre\n",
      "1805833 Jiexiu\n",
      "3386213 Touros\n",
      "1011918 Danielskuil\n",
      "No id Available\n",
      "551047 Kerchevskiy\n",
      "4676740 Brownsville\n",
      "No id Available\n",
      "4726206 San Antonio\n",
      "1812101 Dongying\n",
      "1514581 Angren\n",
      "4692856 Galveston\n",
      "2027244 Bagdarin\n",
      "1528606 Kemin\n",
      "926747 Mchinji\n",
      "1224061 Wattegama\n",
      "2512186 Puerto del Rosario\n",
      "No id Available\n",
      "981158 Lydenburg\n",
      "No id Available\n",
      "1267390 Kavaratti\n",
      "1789289 Dayong\n",
      "2013727 Vanavara\n",
      "491281 Sokol\n",
      "1528998 Yumen\n",
      "1492566 Severo-Yeniseyskiy\n",
      "454178 Viļāni\n",
      "581220 Bolshaya Martynovka\n",
      "3692029 Saposoa\n",
      "3628473 San Cristobal\n",
      "5861897 Fairbanks\n",
      "5301067 Kingman\n",
      "141736 Bam\n",
      "2735083 Rio Tinto\n",
      "2155562 Nelson Bay\n",
      "3449516 Santo Antônio do Amparo\n",
      "3421193 Paamiut\n",
      "1490256 Talnakh\n",
      "933077 Shakawe\n",
      "2033135 Zhengjiatun\n",
      "No id Available\n",
      "3405215 Bonfim\n",
      "3652758 Puerto Baquerizo Moreno\n",
      "1072879 Ankazoabo\n",
      "No id Available\n",
      "1259184 Puri\n",
      "2303611 Esim\n",
      "5017822 Bemidji\n",
      "5870133 Nome\n",
      "3423146 Ilulissat\n",
      "592225 Haapsalu\n",
      "2063042 Port Hedland\n",
      "1234633 Moratuwa\n",
      "2025630 Chara\n",
      "933366 Maun\n",
      "2450173 Taoudenni\n",
      "1855342 Nishihara\n",
      "No id Available\n",
      "921900 Dzaoudzi\n",
      "1503726 Kharp\n"
     ]
    }
   ],
   "source": [
    "base_url = \"http://api.openweathermap.org/data/2.5/weather?q=\"\n",
    "\n",
    "city_list = []\n",
    "city_dict = {}\n",
    "\n",
    "for city in cities:\n",
    "    response = requests.get(f\"{base_url}{city}&units=Imperial&appid={weather_api_key}\").json()\n",
    "    try:\n",
    "        print(response[\"id\"], response[\"name\"])\n",
    "        city_list.append(response)\n",
    "    except KeyError:\n",
    "        print(\"No id Available\")\n",
    "        \n",
    "city_dict[\"City\"] = [city_list[i][\"name\"] for i in range(len(city_list))]\n",
    "city_dict[\"Lat\"] = [city_list[i][\"coord\"][\"lat\"] for i in range(len(city_list))]\n",
    "city_dict[\"Lng\"] = [city_list[i][\"coord\"][\"lon\"] for i in range(len(city_list))]\n",
    "city_dict[\"Max Temp\"] = [city_list[i][\"main\"][\"temp_max\"] for i in range(len(city_list))]\n",
    "city_dict[\"Humidity\"] = [city_list[i][\"main\"][\"humidity\"] for i in range(len(city_list))]\n",
    "city_dict[\"Cloudiness\"] = [city_list[i][\"clouds\"][\"all\"] for i in range(len(city_list))]\n",
    "city_dict[\"Wind Speed\"] = [city_list[i][\"wind\"][\"speed\"] for i in range(len(city_list))]\n",
    "city_dict[\"Country\"] = [city_list[i][\"sys\"][\"country\"] for i in range(len(city_list))]\n",
    "city_dict[\"Date\"] = [city_list[i][\"dt\"] for i in range(len(city_list))]\n",
    "\n",
    "\n"
   ]
  },
  {
   "cell_type": "markdown",
   "metadata": {},
   "source": [
    "### Convert Raw Data to DataFrame\n",
    "* Export the city data into a .csv.\n",
    "* Display the DataFrame"
   ]
  },
  {
   "cell_type": "code",
   "execution_count": 573,
   "metadata": {},
   "outputs": [
    {
     "data": {
      "text/html": [
       "<div>\n",
       "<style scoped>\n",
       "    .dataframe tbody tr th:only-of-type {\n",
       "        vertical-align: middle;\n",
       "    }\n",
       "\n",
       "    .dataframe tbody tr th {\n",
       "        vertical-align: top;\n",
       "    }\n",
       "\n",
       "    .dataframe thead th {\n",
       "        text-align: right;\n",
       "    }\n",
       "</style>\n",
       "<table border=\"1\" class=\"dataframe\">\n",
       "  <thead>\n",
       "    <tr style=\"text-align: right;\">\n",
       "      <th></th>\n",
       "      <th>City</th>\n",
       "      <th>Lat</th>\n",
       "      <th>Lng</th>\n",
       "      <th>Max Temp</th>\n",
       "      <th>Humidity</th>\n",
       "      <th>Cloudiness</th>\n",
       "      <th>Wind Speed</th>\n",
       "      <th>Country</th>\n",
       "      <th>Date</th>\n",
       "    </tr>\n",
       "  </thead>\n",
       "  <tbody>\n",
       "    <tr>\n",
       "      <th>0</th>\n",
       "      <td>Vammala</td>\n",
       "      <td>61.33</td>\n",
       "      <td>22.90</td>\n",
       "      <td>36.00</td>\n",
       "      <td>93</td>\n",
       "      <td>90</td>\n",
       "      <td>10.29</td>\n",
       "      <td>FI</td>\n",
       "      <td>1607308852</td>\n",
       "    </tr>\n",
       "    <tr>\n",
       "      <th>1</th>\n",
       "      <td>Rikitea</td>\n",
       "      <td>-23.12</td>\n",
       "      <td>-134.97</td>\n",
       "      <td>76.89</td>\n",
       "      <td>79</td>\n",
       "      <td>0</td>\n",
       "      <td>14.41</td>\n",
       "      <td>PF</td>\n",
       "      <td>1607308853</td>\n",
       "    </tr>\n",
       "    <tr>\n",
       "      <th>2</th>\n",
       "      <td>Riyadh</td>\n",
       "      <td>24.69</td>\n",
       "      <td>46.72</td>\n",
       "      <td>51.80</td>\n",
       "      <td>66</td>\n",
       "      <td>0</td>\n",
       "      <td>9.17</td>\n",
       "      <td>SA</td>\n",
       "      <td>1607308853</td>\n",
       "    </tr>\n",
       "    <tr>\n",
       "      <th>3</th>\n",
       "      <td>Cape Town</td>\n",
       "      <td>-33.93</td>\n",
       "      <td>18.42</td>\n",
       "      <td>64.99</td>\n",
       "      <td>87</td>\n",
       "      <td>0</td>\n",
       "      <td>12.75</td>\n",
       "      <td>ZA</td>\n",
       "      <td>1607308782</td>\n",
       "    </tr>\n",
       "    <tr>\n",
       "      <th>4</th>\n",
       "      <td>Carauari</td>\n",
       "      <td>-4.88</td>\n",
       "      <td>-66.90</td>\n",
       "      <td>73.58</td>\n",
       "      <td>90</td>\n",
       "      <td>99</td>\n",
       "      <td>1.95</td>\n",
       "      <td>BR</td>\n",
       "      <td>1607308853</td>\n",
       "    </tr>\n",
       "  </tbody>\n",
       "</table>\n",
       "</div>"
      ],
      "text/plain": [
       "        City    Lat     Lng  Max Temp  Humidity  Cloudiness  Wind Speed  \\\n",
       "0    Vammala  61.33   22.90     36.00        93          90       10.29   \n",
       "1    Rikitea -23.12 -134.97     76.89        79           0       14.41   \n",
       "2     Riyadh  24.69   46.72     51.80        66           0        9.17   \n",
       "3  Cape Town -33.93   18.42     64.99        87           0       12.75   \n",
       "4   Carauari  -4.88  -66.90     73.58        90          99        1.95   \n",
       "\n",
       "  Country        Date  \n",
       "0      FI  1607308852  \n",
       "1      PF  1607308853  \n",
       "2      SA  1607308853  \n",
       "3      ZA  1607308782  \n",
       "4      BR  1607308853  "
      ]
     },
     "execution_count": 573,
     "metadata": {},
     "output_type": "execute_result"
    }
   ],
   "source": [
    "city_df = pd.DataFrame(city_dict)\n",
    "city_df.to_csv(output_data_file, index = False)\n",
    "    \n",
    "city_df.head()"
   ]
  },
  {
   "cell_type": "code",
   "execution_count": 574,
   "metadata": {},
   "outputs": [
    {
     "data": {
      "text/html": [
       "<div>\n",
       "<style scoped>\n",
       "    .dataframe tbody tr th:only-of-type {\n",
       "        vertical-align: middle;\n",
       "    }\n",
       "\n",
       "    .dataframe tbody tr th {\n",
       "        vertical-align: top;\n",
       "    }\n",
       "\n",
       "    .dataframe thead th {\n",
       "        text-align: right;\n",
       "    }\n",
       "</style>\n",
       "<table border=\"1\" class=\"dataframe\">\n",
       "  <thead>\n",
       "    <tr style=\"text-align: right;\">\n",
       "      <th></th>\n",
       "      <th>Lat</th>\n",
       "      <th>Lng</th>\n",
       "      <th>Max Temp</th>\n",
       "      <th>Humidity</th>\n",
       "      <th>Cloudiness</th>\n",
       "      <th>Wind Speed</th>\n",
       "      <th>Date</th>\n",
       "    </tr>\n",
       "  </thead>\n",
       "  <tbody>\n",
       "    <tr>\n",
       "      <th>count</th>\n",
       "      <td>549.000000</td>\n",
       "      <td>549.000000</td>\n",
       "      <td>549.000000</td>\n",
       "      <td>549.000000</td>\n",
       "      <td>549.000000</td>\n",
       "      <td>549.000000</td>\n",
       "      <td>5.490000e+02</td>\n",
       "    </tr>\n",
       "    <tr>\n",
       "      <th>mean</th>\n",
       "      <td>20.881876</td>\n",
       "      <td>15.627778</td>\n",
       "      <td>52.202113</td>\n",
       "      <td>76.595628</td>\n",
       "      <td>54.174863</td>\n",
       "      <td>7.649053</td>\n",
       "      <td>1.607309e+09</td>\n",
       "    </tr>\n",
       "    <tr>\n",
       "      <th>std</th>\n",
       "      <td>33.224103</td>\n",
       "      <td>90.822022</td>\n",
       "      <td>27.021913</td>\n",
       "      <td>18.130318</td>\n",
       "      <td>39.962190</td>\n",
       "      <td>5.232953</td>\n",
       "      <td>7.440440e+01</td>\n",
       "    </tr>\n",
       "    <tr>\n",
       "      <th>min</th>\n",
       "      <td>-54.800000</td>\n",
       "      <td>-175.200000</td>\n",
       "      <td>-33.610000</td>\n",
       "      <td>13.000000</td>\n",
       "      <td>0.000000</td>\n",
       "      <td>0.200000</td>\n",
       "      <td>1.607309e+09</td>\n",
       "    </tr>\n",
       "    <tr>\n",
       "      <th>25%</th>\n",
       "      <td>-6.720000</td>\n",
       "      <td>-61.970000</td>\n",
       "      <td>30.990000</td>\n",
       "      <td>68.000000</td>\n",
       "      <td>9.000000</td>\n",
       "      <td>3.560000</td>\n",
       "      <td>1.607309e+09</td>\n",
       "    </tr>\n",
       "    <tr>\n",
       "      <th>50%</th>\n",
       "      <td>25.520000</td>\n",
       "      <td>17.680000</td>\n",
       "      <td>59.950000</td>\n",
       "      <td>82.000000</td>\n",
       "      <td>66.000000</td>\n",
       "      <td>6.710000</td>\n",
       "      <td>1.607309e+09</td>\n",
       "    </tr>\n",
       "    <tr>\n",
       "      <th>75%</th>\n",
       "      <td>49.600000</td>\n",
       "      <td>97.750000</td>\n",
       "      <td>75.000000</td>\n",
       "      <td>90.000000</td>\n",
       "      <td>94.000000</td>\n",
       "      <td>11.010000</td>\n",
       "      <td>1.607309e+09</td>\n",
       "    </tr>\n",
       "    <tr>\n",
       "      <th>max</th>\n",
       "      <td>78.220000</td>\n",
       "      <td>179.320000</td>\n",
       "      <td>99.000000</td>\n",
       "      <td>100.000000</td>\n",
       "      <td>100.000000</td>\n",
       "      <td>28.860000</td>\n",
       "      <td>1.607309e+09</td>\n",
       "    </tr>\n",
       "  </tbody>\n",
       "</table>\n",
       "</div>"
      ],
      "text/plain": [
       "              Lat         Lng    Max Temp    Humidity  Cloudiness  Wind Speed  \\\n",
       "count  549.000000  549.000000  549.000000  549.000000  549.000000  549.000000   \n",
       "mean    20.881876   15.627778   52.202113   76.595628   54.174863    7.649053   \n",
       "std     33.224103   90.822022   27.021913   18.130318   39.962190    5.232953   \n",
       "min    -54.800000 -175.200000  -33.610000   13.000000    0.000000    0.200000   \n",
       "25%     -6.720000  -61.970000   30.990000   68.000000    9.000000    3.560000   \n",
       "50%     25.520000   17.680000   59.950000   82.000000   66.000000    6.710000   \n",
       "75%     49.600000   97.750000   75.000000   90.000000   94.000000   11.010000   \n",
       "max     78.220000  179.320000   99.000000  100.000000  100.000000   28.860000   \n",
       "\n",
       "               Date  \n",
       "count  5.490000e+02  \n",
       "mean   1.607309e+09  \n",
       "std    7.440440e+01  \n",
       "min    1.607309e+09  \n",
       "25%    1.607309e+09  \n",
       "50%    1.607309e+09  \n",
       "75%    1.607309e+09  \n",
       "max    1.607309e+09  "
      ]
     },
     "execution_count": 574,
     "metadata": {},
     "output_type": "execute_result"
    }
   ],
   "source": [
    "city_df.describe()\n"
   ]
  },
  {
   "cell_type": "markdown",
   "metadata": {},
   "source": [
    "## Inspect the data and remove the cities where the humidity > 100%.\n",
    "----\n",
    "Skip this step if there are no cities that have humidity > 100%. "
   ]
  },
  {
   "cell_type": "code",
   "execution_count": 587,
   "metadata": {},
   "outputs": [
    {
     "data": {
      "text/html": [
       "<div>\n",
       "<style scoped>\n",
       "    .dataframe tbody tr th:only-of-type {\n",
       "        vertical-align: middle;\n",
       "    }\n",
       "\n",
       "    .dataframe tbody tr th {\n",
       "        vertical-align: top;\n",
       "    }\n",
       "\n",
       "    .dataframe thead th {\n",
       "        text-align: right;\n",
       "    }\n",
       "</style>\n",
       "<table border=\"1\" class=\"dataframe\">\n",
       "  <thead>\n",
       "    <tr style=\"text-align: right;\">\n",
       "      <th></th>\n",
       "      <th>Lat</th>\n",
       "      <th>Lng</th>\n",
       "      <th>Max Temp</th>\n",
       "      <th>Humidity</th>\n",
       "      <th>Cloudiness</th>\n",
       "      <th>Wind Speed</th>\n",
       "      <th>Date</th>\n",
       "    </tr>\n",
       "  </thead>\n",
       "  <tbody>\n",
       "    <tr>\n",
       "      <th>count</th>\n",
       "      <td>549.000000</td>\n",
       "      <td>549.000000</td>\n",
       "      <td>549.000000</td>\n",
       "      <td>549.000000</td>\n",
       "      <td>549.000000</td>\n",
       "      <td>549.000000</td>\n",
       "      <td>5.490000e+02</td>\n",
       "    </tr>\n",
       "    <tr>\n",
       "      <th>mean</th>\n",
       "      <td>20.881876</td>\n",
       "      <td>15.627778</td>\n",
       "      <td>52.202113</td>\n",
       "      <td>76.595628</td>\n",
       "      <td>54.174863</td>\n",
       "      <td>7.649053</td>\n",
       "      <td>1.607309e+09</td>\n",
       "    </tr>\n",
       "    <tr>\n",
       "      <th>std</th>\n",
       "      <td>33.224103</td>\n",
       "      <td>90.822022</td>\n",
       "      <td>27.021913</td>\n",
       "      <td>18.130318</td>\n",
       "      <td>39.962190</td>\n",
       "      <td>5.232953</td>\n",
       "      <td>7.440440e+01</td>\n",
       "    </tr>\n",
       "    <tr>\n",
       "      <th>min</th>\n",
       "      <td>-54.800000</td>\n",
       "      <td>-175.200000</td>\n",
       "      <td>-33.610000</td>\n",
       "      <td>13.000000</td>\n",
       "      <td>0.000000</td>\n",
       "      <td>0.200000</td>\n",
       "      <td>1.607309e+09</td>\n",
       "    </tr>\n",
       "    <tr>\n",
       "      <th>25%</th>\n",
       "      <td>-6.720000</td>\n",
       "      <td>-61.970000</td>\n",
       "      <td>30.990000</td>\n",
       "      <td>68.000000</td>\n",
       "      <td>9.000000</td>\n",
       "      <td>3.560000</td>\n",
       "      <td>1.607309e+09</td>\n",
       "    </tr>\n",
       "    <tr>\n",
       "      <th>50%</th>\n",
       "      <td>25.520000</td>\n",
       "      <td>17.680000</td>\n",
       "      <td>59.950000</td>\n",
       "      <td>82.000000</td>\n",
       "      <td>66.000000</td>\n",
       "      <td>6.710000</td>\n",
       "      <td>1.607309e+09</td>\n",
       "    </tr>\n",
       "    <tr>\n",
       "      <th>75%</th>\n",
       "      <td>49.600000</td>\n",
       "      <td>97.750000</td>\n",
       "      <td>75.000000</td>\n",
       "      <td>90.000000</td>\n",
       "      <td>94.000000</td>\n",
       "      <td>11.010000</td>\n",
       "      <td>1.607309e+09</td>\n",
       "    </tr>\n",
       "    <tr>\n",
       "      <th>max</th>\n",
       "      <td>78.220000</td>\n",
       "      <td>179.320000</td>\n",
       "      <td>99.000000</td>\n",
       "      <td>100.000000</td>\n",
       "      <td>100.000000</td>\n",
       "      <td>28.860000</td>\n",
       "      <td>1.607309e+09</td>\n",
       "    </tr>\n",
       "  </tbody>\n",
       "</table>\n",
       "</div>"
      ],
      "text/plain": [
       "              Lat         Lng    Max Temp    Humidity  Cloudiness  Wind Speed  \\\n",
       "count  549.000000  549.000000  549.000000  549.000000  549.000000  549.000000   \n",
       "mean    20.881876   15.627778   52.202113   76.595628   54.174863    7.649053   \n",
       "std     33.224103   90.822022   27.021913   18.130318   39.962190    5.232953   \n",
       "min    -54.800000 -175.200000  -33.610000   13.000000    0.000000    0.200000   \n",
       "25%     -6.720000  -61.970000   30.990000   68.000000    9.000000    3.560000   \n",
       "50%     25.520000   17.680000   59.950000   82.000000   66.000000    6.710000   \n",
       "75%     49.600000   97.750000   75.000000   90.000000   94.000000   11.010000   \n",
       "max     78.220000  179.320000   99.000000  100.000000  100.000000   28.860000   \n",
       "\n",
       "               Date  \n",
       "count  5.490000e+02  \n",
       "mean   1.607309e+09  \n",
       "std    7.440440e+01  \n",
       "min    1.607309e+09  \n",
       "25%    1.607309e+09  \n",
       "50%    1.607309e+09  \n",
       "75%    1.607309e+09  \n",
       "max    1.607309e+09  "
      ]
     },
     "execution_count": 587,
     "metadata": {},
     "output_type": "execute_result"
    }
   ],
   "source": [
    "under_100 = city_df[city_df[\"Humidity\"]<= 100]\n",
    "under_100.describe()"
   ]
  },
  {
   "cell_type": "code",
   "execution_count": 588,
   "metadata": {},
   "outputs": [
    {
     "name": "stdout",
     "output_type": "stream",
     "text": [
      "Int64Index([], dtype='int64')\n"
     ]
    }
   ],
   "source": [
    "#  Get the indices of cities that have humidity over 90%.\n",
    "over_100 = city_df.index[city_df[\"Humidity\"] > 100]\n",
    "print(over_100)"
   ]
  },
  {
   "cell_type": "code",
   "execution_count": 590,
   "metadata": {},
   "outputs": [
    {
     "data": {
      "text/html": [
       "<div>\n",
       "<style scoped>\n",
       "    .dataframe tbody tr th:only-of-type {\n",
       "        vertical-align: middle;\n",
       "    }\n",
       "\n",
       "    .dataframe tbody tr th {\n",
       "        vertical-align: top;\n",
       "    }\n",
       "\n",
       "    .dataframe thead th {\n",
       "        text-align: right;\n",
       "    }\n",
       "</style>\n",
       "<table border=\"1\" class=\"dataframe\">\n",
       "  <thead>\n",
       "    <tr style=\"text-align: right;\">\n",
       "      <th></th>\n",
       "      <th>Lat</th>\n",
       "      <th>Lng</th>\n",
       "      <th>Max Temp</th>\n",
       "      <th>Humidity</th>\n",
       "      <th>Cloudiness</th>\n",
       "      <th>Wind Speed</th>\n",
       "      <th>Date</th>\n",
       "    </tr>\n",
       "  </thead>\n",
       "  <tbody>\n",
       "    <tr>\n",
       "      <th>count</th>\n",
       "      <td>549.000000</td>\n",
       "      <td>549.000000</td>\n",
       "      <td>549.000000</td>\n",
       "      <td>549.000000</td>\n",
       "      <td>549.000000</td>\n",
       "      <td>549.000000</td>\n",
       "      <td>5.490000e+02</td>\n",
       "    </tr>\n",
       "    <tr>\n",
       "      <th>mean</th>\n",
       "      <td>20.881876</td>\n",
       "      <td>15.627778</td>\n",
       "      <td>52.202113</td>\n",
       "      <td>76.595628</td>\n",
       "      <td>54.174863</td>\n",
       "      <td>7.649053</td>\n",
       "      <td>1.607309e+09</td>\n",
       "    </tr>\n",
       "    <tr>\n",
       "      <th>std</th>\n",
       "      <td>33.224103</td>\n",
       "      <td>90.822022</td>\n",
       "      <td>27.021913</td>\n",
       "      <td>18.130318</td>\n",
       "      <td>39.962190</td>\n",
       "      <td>5.232953</td>\n",
       "      <td>7.440440e+01</td>\n",
       "    </tr>\n",
       "    <tr>\n",
       "      <th>min</th>\n",
       "      <td>-54.800000</td>\n",
       "      <td>-175.200000</td>\n",
       "      <td>-33.610000</td>\n",
       "      <td>13.000000</td>\n",
       "      <td>0.000000</td>\n",
       "      <td>0.200000</td>\n",
       "      <td>1.607309e+09</td>\n",
       "    </tr>\n",
       "    <tr>\n",
       "      <th>25%</th>\n",
       "      <td>-6.720000</td>\n",
       "      <td>-61.970000</td>\n",
       "      <td>30.990000</td>\n",
       "      <td>68.000000</td>\n",
       "      <td>9.000000</td>\n",
       "      <td>3.560000</td>\n",
       "      <td>1.607309e+09</td>\n",
       "    </tr>\n",
       "    <tr>\n",
       "      <th>50%</th>\n",
       "      <td>25.520000</td>\n",
       "      <td>17.680000</td>\n",
       "      <td>59.950000</td>\n",
       "      <td>82.000000</td>\n",
       "      <td>66.000000</td>\n",
       "      <td>6.710000</td>\n",
       "      <td>1.607309e+09</td>\n",
       "    </tr>\n",
       "    <tr>\n",
       "      <th>75%</th>\n",
       "      <td>49.600000</td>\n",
       "      <td>97.750000</td>\n",
       "      <td>75.000000</td>\n",
       "      <td>90.000000</td>\n",
       "      <td>94.000000</td>\n",
       "      <td>11.010000</td>\n",
       "      <td>1.607309e+09</td>\n",
       "    </tr>\n",
       "    <tr>\n",
       "      <th>max</th>\n",
       "      <td>78.220000</td>\n",
       "      <td>179.320000</td>\n",
       "      <td>99.000000</td>\n",
       "      <td>100.000000</td>\n",
       "      <td>100.000000</td>\n",
       "      <td>28.860000</td>\n",
       "      <td>1.607309e+09</td>\n",
       "    </tr>\n",
       "  </tbody>\n",
       "</table>\n",
       "</div>"
      ],
      "text/plain": [
       "              Lat         Lng    Max Temp    Humidity  Cloudiness  Wind Speed  \\\n",
       "count  549.000000  549.000000  549.000000  549.000000  549.000000  549.000000   \n",
       "mean    20.881876   15.627778   52.202113   76.595628   54.174863    7.649053   \n",
       "std     33.224103   90.822022   27.021913   18.130318   39.962190    5.232953   \n",
       "min    -54.800000 -175.200000  -33.610000   13.000000    0.000000    0.200000   \n",
       "25%     -6.720000  -61.970000   30.990000   68.000000    9.000000    3.560000   \n",
       "50%     25.520000   17.680000   59.950000   82.000000   66.000000    6.710000   \n",
       "75%     49.600000   97.750000   75.000000   90.000000   94.000000   11.010000   \n",
       "max     78.220000  179.320000   99.000000  100.000000  100.000000   28.860000   \n",
       "\n",
       "               Date  \n",
       "count  5.490000e+02  \n",
       "mean   1.607309e+09  \n",
       "std    7.440440e+01  \n",
       "min    1.607309e+09  \n",
       "25%    1.607309e+09  \n",
       "50%    1.607309e+09  \n",
       "75%    1.607309e+09  \n",
       "max    1.607309e+09  "
      ]
     },
     "execution_count": 590,
     "metadata": {},
     "output_type": "execute_result"
    }
   ],
   "source": [
    "# Make a new DataFrame equal to the city data to drop all humidity outliers by index.\n",
    "# Passing \"inplace=False\" will make a copy of the city_data DataFrame, which we call \"clean_city_data\".\n",
    "\n",
    "clean_city_data = city_df.drop(index = over_100, inplace = False)\n",
    "clean_city_data.describe()"
   ]
  },
  {
   "cell_type": "markdown",
   "metadata": {},
   "source": [
    "## Plotting the Data\n",
    "* Use proper labeling of the plots using plot titles (including date of analysis) and axes labels.\n",
    "* Save the plotted figures as .pngs."
   ]
  },
  {
   "cell_type": "markdown",
   "metadata": {},
   "source": [
    "## Latitude vs. Temperature Plot"
   ]
  },
  {
   "cell_type": "code",
   "execution_count": 591,
   "metadata": {
    "scrolled": true
   },
   "outputs": [
    {
     "data": {
      "image/png": "[encoded data removed]",
      "text/plain": [
       "<Figure size 432x288 with 1 Axes>"
      ]
     },
     "metadata": {
      "needs_background": "light"
     },
     "output_type": "display_data"
    }
   ],
   "source": [
    "clean_city_data.plot(x = \"Lat\", y = \"Max Temp\", kind = \"scatter\", grid = True, title = \"City Latitude vs Max Temperature (12/4/2020)\", edgecolor = \"black\")\n",
    "plt.xlabel(\"Latitude\")\n",
    "plt.ylabel(\"Max Temperature (F)\")\n",
    "plt.savefig(\"Latitude vs Max Temp.png\")\n",
    "\n"
   ]
  },
  {
   "cell_type": "code",
   "execution_count": null,
   "metadata": {},
   "outputs": [],
   "source": [
    "## scatter plot examines the correlation between latitude and Max Temp, showing to closer a city is to the equater the higher the max temp. We can also see that cities south of the equator have high max temps than their lat opposites since the southern hemosphere is tilted toward the sun (summer months)"
   ]
  },
  {
   "cell_type": "markdown",
   "metadata": {},
   "source": [
    "## Latitude vs. Humidity Plot"
   ]
  },
  {
   "cell_type": "code",
   "execution_count": 592,
   "metadata": {
    "scrolled": true
   },
   "outputs": [
    {
     "data": {
      "image/png": "[encoded data removed]",
      "text/plain": [
       "<Figure size 432x288 with 1 Axes>"
      ]
     },
     "metadata": {
      "needs_background": "light"
     },
     "output_type": "display_data"
    }
   ],
   "source": [
    "clean_city_data.plot(x = \"Lat\", y = \"Humidity\", kind = \"scatter\", grid = True, title = \"City Latitude vs Humidity (12/4/2020)\", edgecolor = \"black\")\n",
    "plt.xlabel(\"Latitude\")\n",
    "plt.ylabel(\"Humidity (%)\")\n",
    "plt.savefig(\"Latitude vs Humidity.png\")"
   ]
  },
  {
   "cell_type": "code",
   "execution_count": null,
   "metadata": {},
   "outputs": [],
   "source": [
    "#scatter plot showing a weak correlation between latitude and humidity"
   ]
  },
  {
   "cell_type": "markdown",
   "metadata": {},
   "source": [
    "## Latitude vs. Cloudiness Plot"
   ]
  },
  {
   "cell_type": "code",
   "execution_count": 593,
   "metadata": {},
   "outputs": [
    {
     "data": {
      "image/png": "[encoded data removed]",
      "text/plain": [
       "<Figure size 432x288 with 1 Axes>"
      ]
     },
     "metadata": {
      "needs_background": "light"
     },
     "output_type": "display_data"
    }
   ],
   "source": [
    "clean_city_data.plot(x = \"Lat\", y = \"Cloudiness\", kind = \"scatter\", grid = True, title = \"City Latitude vs Cloudiness (12/4/2020)\", edgecolor = \"black\")\n",
    "plt.xlabel(\"Latitude\")\n",
    "plt.ylabel(\"Cloudiness (%)\")\n",
    "plt.savefig(\"Latitude vs Cloudiness.png\")"
   ]
  },
  {
   "cell_type": "code",
   "execution_count": 594,
   "metadata": {},
   "outputs": [],
   "source": [
    "#scatter plot showing no correlation between latitude and cloudiness"
   ]
  },
  {
   "cell_type": "markdown",
   "metadata": {},
   "source": [
    "## Latitude vs. Wind Speed Plot"
   ]
  },
  {
   "cell_type": "code",
   "execution_count": 595,
   "metadata": {},
   "outputs": [
    {
     "data": {
      "image/png": "[encoded data removed]",
      "text/plain": [
       "<Figure size 432x288 with 1 Axes>"
      ]
     },
     "metadata": {
      "needs_background": "light"
     },
     "output_type": "display_data"
    }
   ],
   "source": [
    "clean_city_data.plot(x = \"Lat\", y = \"Wind Speed\", kind = \"scatter\", grid = True, title = \"City Latitude vs Wind Speed (12/4/2020)\", edgecolor = \"black\")\n",
    "plt.xlabel(\"Latitude\")\n",
    "plt.ylabel(\"Wind Speed (mph)\")\n",
    "plt.savefig(\"Latitude vs Wind Speed.png\")"
   ]
  },
  {
   "cell_type": "code",
   "execution_count": 596,
   "metadata": {},
   "outputs": [],
   "source": [
    "## scatter plot showing a slightly positive correlation in Wind Speed the further you move away from the equator "
   ]
  },
  {
   "cell_type": "markdown",
   "metadata": {},
   "source": [
    "## Linear Regression"
   ]
  },
  {
   "cell_type": "code",
   "execution_count": 612,
   "metadata": {},
   "outputs": [],
   "source": [
    "nhem_df = clean_city_data[clean_city_data[\"Lat\"] >= 0]\n",
    "shem_df = clean_city_data[clean_city_data[\"Lat\"] < 0]"
   ]
  },
  {
   "cell_type": "markdown",
   "metadata": {},
   "source": [
    "####  Northern Hemisphere - Max Temp vs. Latitude Linear Regression"
   ]
  },
  {
   "cell_type": "code",
   "execution_count": 622,
   "metadata": {},
   "outputs": [
    {
     "name": "stdout",
     "output_type": "stream",
     "text": [
      "The r-value is: -0.8609711670010719\n"
     ]
    },
    {
     "data": {
      "image/png": "[encoded data removed]",
      "text/plain": [
       "<Figure size 432x288 with 1 Axes>"
      ]
     },
     "metadata": {
      "needs_background": "light"
     },
     "output_type": "display_data"
    }
   ],
   "source": [
    "nhem_df.plot(x = \"Lat\", y = \"Max Temp\", kind = \"scatter\")\n",
    "plt.xlabel(\"Latitude\")\n",
    "plt.ylabel(\"Max Temperature (F)\")\n",
    "(slope, intercept, rvalue, pvalue, stderr) = linregress(nhem_df[\"Lat\"], nhem_df[\"Max Temp\"])\n",
    "regress_values = nhem_df[\"Lat\"] * slope + intercept\n",
    "line_eq = \"y = \" + str(round(slope,2)) + \"x + \" + str(round(intercept,2))\n",
    "plt.plot(nhem_df[\"Lat\"],regress_values,\"r-\")\n",
    "plt.annotate(line_eq,(5,20),fontsize=15,color=\"red\")\n",
    "plt.savefig(\"Latitude vs Max Temp Regression.png\")\n",
    "print(f\"The r-value is: {rvalue}\")"
   ]
  },
  {
   "cell_type": "code",
   "execution_count": 610,
   "metadata": {},
   "outputs": [],
   "source": [
    "## strong negative correlatoin between Latitude and Max Temp the further you move away from the equator"
   ]
  },
  {
   "cell_type": "markdown",
   "metadata": {},
   "source": [
    "####  Southern Hemisphere - Max Temp vs. Latitude Linear Regression"
   ]
  },
  {
   "cell_type": "code",
   "execution_count": 618,
   "metadata": {},
   "outputs": [
    {
     "name": "stdout",
     "output_type": "stream",
     "text": [
      "The r-value is: 0.519198769893004\n"
     ]
    },
    {
     "data": {
      "image/png": "[encoded data removed]",
      "text/plain": [
       "<Figure size 432x288 with 1 Axes>"
      ]
     },
     "metadata": {
      "needs_background": "light"
     },
     "output_type": "display_data"
    }
   ],
   "source": [
    "shem_df.plot(x = \"Lat\", y = \"Max Temp\", kind = \"scatter\")\n",
    "plt.xlabel(\"Latitude\")\n",
    "plt.ylabel(\"Max Temperature (F)\")\n",
    "(slope, intercept, rvalue, pvalue, stderr) = linregress(shem_df[\"Lat\"], shem_df[\"Max Temp\"])\n",
    "regress_values = shem_df[\"Lat\"] * slope + intercept\n",
    "line_eq = \"y = \" + str(round(slope,2)) + \"x + \" + str(round(intercept,2))\n",
    "plt.plot(shem_df[\"Lat\"],regress_values,\"r-\")\n",
    "plt.annotate(line_eq,(-28,55),fontsize=15,color=\"red\")\n",
    "plt.savefig(\"Latitude vs Max Temp Regression SH.png\")\n",
    "print(f\"The r-value is: {rvalue}\")"
   ]
  },
  {
   "cell_type": "code",
   "execution_count": 619,
   "metadata": {},
   "outputs": [],
   "source": [
    "#scatter plot showing a moderate positive correlation with Lat and Max temp the closer you move towards the equator"
   ]
  },
  {
   "cell_type": "markdown",
   "metadata": {},
   "source": [
    "####  Northern Hemisphere - Humidity (%) vs. Latitude Linear Regression"
   ]
  },
  {
   "cell_type": "code",
   "execution_count": 625,
   "metadata": {},
   "outputs": [
    {
     "name": "stdout",
     "output_type": "stream",
     "text": [
      "The r-value is: 0.2944638450276033\n"
     ]
    },
    {
     "data": {
      "image/png": "[encoded data removed]",
      "text/plain": [
       "<Figure size 432x288 with 1 Axes>"
      ]
     },
     "metadata": {
      "needs_background": "light"
     },
     "output_type": "display_data"
    }
   ],
   "source": [
    "nhem_df.plot(x = \"Lat\", y = \"Humidity\", kind = \"scatter\")\n",
    "plt.xlabel(\"Latitude\")\n",
    "plt.ylabel(\"Humidity (%)\")\n",
    "(slope, intercept, rvalue, pvalue, stderr) = linregress(nhem_df[\"Lat\"], nhem_df[\"Humidity\"])\n",
    "regress_values = nhem_df[\"Lat\"] * slope + intercept\n",
    "line_eq = \"y = \" + str(round(slope,2)) + \"x + \" + str(round(intercept,2))\n",
    "plt.plot(nhem_df[\"Lat\"],regress_values,\"r-\")\n",
    "plt.annotate(line_eq,(45,40),fontsize=15,color=\"red\")\n",
    "plt.savefig(\"Latitude vs Humidity Regression.png\")\n",
    "print(f\"The r-value is: {rvalue}\")"
   ]
  },
  {
   "cell_type": "code",
   "execution_count": 626,
   "metadata": {},
   "outputs": [],
   "source": [
    "#scatter plot showing a weak positive correlation with Lat and humidity the further you move away from the equator"
   ]
  },
  {
   "cell_type": "markdown",
   "metadata": {},
   "source": [
    "####  Southern Hemisphere - Humidity (%) vs. Latitude Linear Regression"
   ]
  },
  {
   "cell_type": "code",
   "execution_count": 646,
   "metadata": {},
   "outputs": [
    {
     "name": "stdout",
     "output_type": "stream",
     "text": [
      "The r-value is: 0.37904782781034596\n"
     ]
    },
    {
     "data": {
      "image/png": "[encoded data removed]",
      "text/plain": [
       "<Figure size 432x288 with 1 Axes>"
      ]
     },
     "metadata": {
      "needs_background": "light"
     },
     "output_type": "display_data"
    }
   ],
   "source": [
    "shem_df.plot(x = \"Lat\", y = \"Humidity\", kind = \"scatter\")\n",
    "plt.xlabel(\"Latitude\")\n",
    "plt.ylabel(\"Humidity (%)\")\n",
    "(slope, intercept, rvalue, pvalue, stderr) = linregress(shem_df[\"Lat\"], shem_df[\"Humidity\"])\n",
    "regress_values = shem_df[\"Lat\"] * slope + intercept\n",
    "line_eq = \"y = \" + str(round(slope,2)) + \"x + \" + str(round(intercept,2))\n",
    "plt.plot(shem_df[\"Lat\"],regress_values,\"r-\")\n",
    "plt.annotate(line_eq,(-28,35),fontsize=15,color=\"red\")\n",
    "plt.savefig(\"Latitude vs Humidity Regression SH.png\")\n",
    "print(f\"The r-value is: {rvalue}\")"
   ]
  },
  {
   "cell_type": "code",
   "execution_count": 629,
   "metadata": {},
   "outputs": [],
   "source": [
    "#scatter plot showing a weak positive correlation with Lat and humidity the closer you move towards the equator"
   ]
  },
  {
   "cell_type": "markdown",
   "metadata": {},
   "source": [
    "####  Northern Hemisphere - Cloudiness (%) vs. Latitude Linear Regression"
   ]
  },
  {
   "cell_type": "code",
   "execution_count": 647,
   "metadata": {},
   "outputs": [
    {
     "name": "stdout",
     "output_type": "stream",
     "text": [
      "The r-value is: 0.2490444401055503\n"
     ]
    },
    {
     "data": {
      "image/png": "[encoded data removed]",
      "text/plain": [
       "<Figure size 432x288 with 1 Axes>"
      ]
     },
     "metadata": {
      "needs_background": "light"
     },
     "output_type": "display_data"
    }
   ],
   "source": [
    "nhem_df.plot(x = \"Lat\", y = \"Cloudiness\", kind = \"scatter\")\n",
    "plt.xlabel(\"Latitude\")\n",
    "plt.ylabel(\"Cloudiness (%)\")\n",
    "(slope, intercept, rvalue, pvalue, stderr) = linregress(nhem_df[\"Lat\"], nhem_df[\"Cloudiness\"])\n",
    "regress_values = nhem_df[\"Lat\"] * slope + intercept\n",
    "line_eq = \"y = \" + str(round(slope,2)) + \"x + \" + str(round(intercept,2))\n",
    "plt.plot(nhem_df[\"Lat\"],regress_values,\"r-\")\n",
    "plt.annotate(line_eq,(44,45),fontsize=15,color=\"red\")\n",
    "plt.savefig(\"Latitude vs Cloudiness Regression.png\")\n",
    "print(f\"The r-value is: {rvalue}\")"
   ]
  },
  {
   "cell_type": "code",
   "execution_count": 634,
   "metadata": {},
   "outputs": [],
   "source": [
    "#scatter plot showing a weak positive correlation with Lat and Cloudiness the further you move away from the equator"
   ]
  },
  {
   "cell_type": "markdown",
   "metadata": {},
   "source": [
    "####  Southern Hemisphere - Cloudiness (%) vs. Latitude Linear Regression"
   ]
  },
  {
   "cell_type": "code",
   "execution_count": 648,
   "metadata": {},
   "outputs": [
    {
     "name": "stdout",
     "output_type": "stream",
     "text": [
      "The r-value is: 0.2228397047501798\n"
     ]
    },
    {
     "data": {
      "image/png": "[encoded data removed]",
      "text/plain": [
       "<Figure size 432x288 with 1 Axes>"
      ]
     },
     "metadata": {
      "needs_background": "light"
     },
     "output_type": "display_data"
    }
   ],
   "source": [
    "shem_df.plot(x = \"Lat\", y = \"Cloudiness\", kind = \"scatter\")\n",
    "plt.xlabel(\"Latitude\")\n",
    "plt.ylabel(\"Cloudiness (%)\")\n",
    "(slope, intercept, rvalue, pvalue, stderr) = linregress(shem_df[\"Lat\"], shem_df[\"Cloudiness\"])\n",
    "regress_values = shem_df[\"Lat\"] * slope + intercept\n",
    "line_eq = \"y = \" + str(round(slope,2)) + \"x + \" + str(round(intercept,2))\n",
    "plt.plot(shem_df[\"Lat\"],regress_values,\"r-\")\n",
    "plt.annotate(line_eq,(-24,45),fontsize=15,color=\"red\")\n",
    "plt.savefig(\"Latitude vs Cloudiness Regression SH.png\")\n",
    "print(f\"The r-value is: {rvalue}\")"
   ]
  },
  {
   "cell_type": "code",
   "execution_count": 640,
   "metadata": {},
   "outputs": [],
   "source": [
    "#scatter plot showing a weak positive correlation with Lat and Cloudiness the closer you move towards the equator"
   ]
  },
  {
   "cell_type": "markdown",
   "metadata": {},
   "source": [
    "####  Northern Hemisphere - Wind Speed (mph) vs. Latitude Linear Regression"
   ]
  },
  {
   "cell_type": "code",
   "execution_count": 645,
   "metadata": {},
   "outputs": [
    {
     "name": "stdout",
     "output_type": "stream",
     "text": [
      "The r-value is: 0.2571551796361247\n"
     ]
    },
    {
     "data": {
      "image/png": "[encoded data removed]",
      "text/plain": [
       "<Figure size 432x288 with 1 Axes>"
      ]
     },
     "metadata": {
      "needs_background": "light"
     },
     "output_type": "display_data"
    }
   ],
   "source": [
    "nhem_df.plot(x = \"Lat\", y = \"Wind Speed\", kind = \"scatter\")\n",
    "plt.xlabel(\"Latitude\")\n",
    "plt.ylabel(\"Wind Speed (mph)\")\n",
    "(slope, intercept, rvalue, pvalue, stderr) = linregress(nhem_df[\"Lat\"], nhem_df[\"Wind Speed\"])\n",
    "regress_values = nhem_df[\"Lat\"] * slope + intercept\n",
    "line_eq = \"y = \" + str(round(slope,2)) + \"x + \" + str(round(intercept,2))\n",
    "plt.plot(nhem_df[\"Lat\"],regress_values,\"r-\")\n",
    "plt.annotate(line_eq,(5,20),fontsize=15,color=\"red\")\n",
    "plt.savefig(\"Latitude vs Wind Speed Regression.png\")\n",
    "print(f\"The r-value is: {rvalue}\")"
   ]
  },
  {
   "cell_type": "code",
   "execution_count": 649,
   "metadata": {},
   "outputs": [],
   "source": [
    "#scatter plot showing a weak positive correlation with Lat and Wind Speed the further you move away from the equator       "
   ]
  },
  {
   "cell_type": "markdown",
   "metadata": {},
   "source": [
    "####  Southern Hemisphere - Wind Speed (mph) vs. Latitude Linear Regression"
   ]
  },
  {
   "cell_type": "code",
   "execution_count": 652,
   "metadata": {},
   "outputs": [
    {
     "name": "stdout",
     "output_type": "stream",
     "text": [
      "The r-value is: -0.4003288550727756\n"
     ]
    },
    {
     "data": {
      "image/png": "[encoded data removed]",
      "text/plain": [
       "<Figure size 432x288 with 1 Axes>"
      ]
     },
     "metadata": {
      "needs_background": "light"
     },
     "output_type": "display_data"
    }
   ],
   "source": [
    "shem_df.plot(x = \"Lat\", y = \"Wind Speed\", kind = \"scatter\")\n",
    "plt.xlabel(\"Latitude\")\n",
    "plt.ylabel(\"Wind Speed (mph)\")\n",
    "(slope, intercept, rvalue, pvalue, stderr) = linregress(shem_df[\"Lat\"], shem_df[\"Wind Speed\"])\n",
    "regress_values = shem_df[\"Lat\"] * slope + intercept\n",
    "line_eq = \"y = \" + str(round(slope,2)) + \"x + \" + str(round(intercept,2))\n",
    "plt.plot(shem_df[\"Lat\"],regress_values,\"r-\")\n",
    "plt.annotate(line_eq,(-24,45),fontsize=15,color=\"red\")\n",
    "plt.savefig(\"Latitude vs Wind Speed Regression SH.png\")\n",
    "print(f\"The r-value is: {rvalue}\")"
   ]
  },
  {
   "cell_type": "code",
   "execution_count": 651,
   "metadata": {},
   "outputs": [],
   "source": [
    "#scatter plot showing a moderate negative correlation with Lat and Wind Speed the closer you move towards the equator"
   ]
  },
  {
   "cell_type": "code",
   "execution_count": null,
   "metadata": {},
   "outputs": [],
   "source": []
  }
 ],
 "metadata": {
  "anaconda-cloud": {},
  "kernel_info": {
   "name": "python3"
  },
  "kernelspec": {
   "display_name": "Python 3",
   "language": "python",
   "name": "python3"
  },
  "language_info": {
   "codemirror_mode": {
    "name": "ipython",
    "version": 3
   },
   "file_extension": ".py",
   "mimetype": "text/x-python",
   "name": "python",
   "nbconvert_exporter": "python",
   "pygments_lexer": "ipython3",
   "version": "3.8.3"
  },
  "latex_envs": {
   "LaTeX_envs_menu_present": true,
   "autoclose": false,
   "autocomplete": true,
   "bibliofile": "biblio.bib",
   "cite_by": "apalike",
   "current_citInitial": 1,
   "eqLabelWithNumbers": true,
   "eqNumInitial": 1,
   "hotkeys": {
    "equation": "Ctrl-E",
    "itemize": "Ctrl-I"
   },
   "labels_anchors": false,
   "latex_user_defs": false,
   "report_style_numbering": false,
   "user_envs_cfg": false
  },
  "nteract": {
   "version": "0.12.3"
  }
 },
 "nbformat": 4,
 "nbformat_minor": 2
}
